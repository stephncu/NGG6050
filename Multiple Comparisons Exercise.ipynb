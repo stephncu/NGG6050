{
 "cells": [
  {
   "cell_type": "code",
   "execution_count": 1,
   "metadata": {},
   "outputs": [],
   "source": [
    "import numpy as np\n",
    "import scipy.stats as st\n",
    "import matplotlib.pyplot as plt\n",
    "from IPython.display import display, clear_output"
   ]
  },
  {
   "cell_type": "markdown",
   "metadata": {},
   "source": [
    "In this exercise we will run through an example of correcting for multiple comparisons with both the Benjamini-Hochberg procedure and the more conservative Bonferroni correction.\n",
    "\n",
    "First, simulate multiple (say, 1000) t-tests comparing two samples with equal means and standard deviations, and save the p-values. Obviously, at p<0.05 we expect that ~5% of the simulations to yield a \"statistically significant\" result (of rejecting the NULL hypothesis that the samples come from distributions with equal means)."
   ]
  },
  {
   "cell_type": "code",
   "execution_count": 25,
   "metadata": {},
   "outputs": [
    {
     "name": "stdout",
     "output_type": "stream",
     "text": [
      "When the means and standard deviation are the same, such that they both have means of 1:\n",
      "Before multiple comparisons correction, 55 of 1000 are significant, or 5.5%.\n"
     ]
    }
   ],
   "source": [
    "print(\"When the means and standard deviation are the same, such that they both have means of 1:\")\n",
    "\n",
    "#Define the unpaired measurements with the same mu (mean) and sigma (standard deviation).\n",
    "mu = 1\n",
    "sigma = 1\n",
    "\n",
    "#Simulate 1000 t-tests comparing two samples with equal means and standard deviations.\n",
    "n = 100\n",
    "number_tests = 1000\n",
    "\n",
    "p_value = []\n",
    "for _ in range(number_tests):\n",
    "    X1 = np.random.normal(mu, sigma, n)\n",
    "    X2 = np.random.normal(mu, sigma, n)\n",
    "    t_stat, p_val = st.ttest_ind(X1, X2)\n",
    "    p_value.append(p_val)\n",
    "\n",
    "p_value = np.array(p_value)     #converts p_value list into NumPy array\n",
    "\n",
    "#Calculate percentage of p-values less than 0.05 (before correction)\n",
    "significant_count = np.sum(p_value < 0.05)\n",
    "percentage_significant = (significant_count/number_tests)*100\n",
    "print(f\"Before multiple comparisons correction, {significant_count} of {number_tests} are significant, or {percentage_significant:.2}%.\")\n"
   ]
  },
  {
   "cell_type": "markdown",
   "metadata": {},
   "source": [
    "Second, once you have the simulated p-values, apply both methods to address the multiple comparisons problem."
   ]
  },
  {
   "cell_type": "code",
   "execution_count": 26,
   "metadata": {},
   "outputs": [
    {
     "name": "stdout",
     "output_type": "stream",
     "text": [
      "After Bonferroni correction, 0 of 1000 are significant, or 0.0%.\n"
     ]
    }
   ],
   "source": [
    "#Bonferroni correction function with variables pvals and defined alpha.\n",
    "def bonferroni_correction(pvals, alpha = 0.05):\n",
    "    bonferroni_alpha = alpha / len(pvals)       #bonferroni alpha is the defined alpha divided by the number of comparisons, which is equal to the number of p-values\n",
    "    significant = pvals < bonferroni_alpha\n",
    "    return significant\n",
    "\n",
    "bonferroni_significant = bonferroni_correction(p_value)\n",
    "bonferroni_significant_count = np.sum(bonferroni_significant)\n",
    "percentage_bonferroni_significant = (bonferroni_significant_count/number_tests)*100\n",
    "print(f\"After Bonferroni correction, {bonferroni_significant_count} of {number_tests} are significant, or {percentage_bonferroni_significant:.2}%.\")"
   ]
  },
  {
   "cell_type": "code",
   "execution_count": 48,
   "metadata": {},
   "outputs": [
    {
     "name": "stdout",
     "output_type": "stream",
     "text": [
      "After BH correction, 999 of 1000 are significant, or 1e+02%.\n"
     ]
    }
   ],
   "source": [
    "# Benjamini-Hochberg procedure\n",
    "def benjamini_hochberg(pvals, alpha=0.05):\n",
    "    n = len(pvals)\n",
    "    sorted_pvals = np.sort(pvals)\n",
    "    sorted_index = np.argsort(pvals)\n",
    "    adjusted_alpha = sorted_index / n * alpha\n",
    "    significant = sorted_pvals <= adjusted_alpha\n",
    "    return significant[sorted_index.argsort()]\n",
    "\n",
    "bh_significant = benjamini_hochberg(p_value)\n",
    "bh_significant_count = np.sum(bh_significant)\n",
    "percentage_bh_significant = (bh_significant_count/number_tests)*100\n",
    "print(f\"After BH correction, {bh_significant_count} of {number_tests} are significant, or {percentage_bh_significant:.2}%.\")"
   ]
  },
  {
   "cell_type": "markdown",
   "metadata": {},
   "source": [
    "Third, set the sample 1 and sample 2 means to be 1 and 2 respectively, and re-run the exercise. What do you notice? What if you make the difference between means even greater?"
   ]
  },
  {
   "cell_type": "code",
   "execution_count": 45,
   "metadata": {},
   "outputs": [
    {
     "name": "stdout",
     "output_type": "stream",
     "text": [
      "When the means are different, such that sample 1 and 2 have means of 1 and 2 respectively:\n",
      "Before multiple comparisons correction, 1000 of 1000 are significant, or 1e+02%.\n",
      "After Bonferroni correction, 998 of 1000 are significant, or 1e+02%.\n",
      "After BH correction, 999 of 1000 are significant, or 1e+02%.\n"
     ]
    }
   ],
   "source": [
    "print(\"When the means are different, such that sample 1 and 2 have means of 1 and 2 respectively:\")\n",
    "#Define the unpaired measurements with the same mu (mean) and sigma (standard deviation).\n",
    "mu_1 = 1\n",
    "mu_2 = 2\n",
    "sigma = 1\n",
    "\n",
    "#Simulate 1000 t-tests comparing two samples with equal means and standard deviations.\n",
    "n = 100\n",
    "number_tests = 1000\n",
    "\n",
    "p_value = []\n",
    "for _ in range(number_tests):\n",
    "    X1 = np.random.normal(mu_1, sigma, n)\n",
    "    X2 = np.random.normal(mu_2, sigma, n)\n",
    "    t_stat, p_val = st.ttest_ind(X1, X2)\n",
    "    p_value.append(p_val)\n",
    "\n",
    "p_value = np.array(p_value)     #converts p_value list into NumPy array\n",
    "\n",
    "#Calculate percentage of p-values less than 0.05 (before correction)\n",
    "significant_count = np.sum(p_value < 0.05)\n",
    "percentage_significant = (significant_count/number_tests)*100\n",
    "print(f\"Before multiple comparisons correction, {significant_count} of {number_tests} are significant, or {percentage_significant:.2}%.\")\n",
    "\n",
    "#Bonferroni correction function with variables pvals and defined alpha.\n",
    "def bonferroni_correction(pvals, alpha = 0.05):\n",
    "    bonferroni_alpha = alpha / len(pvals)       #bonferroni alpha is the defined alpha divided by the number of comparisons, which is equal to the number of p-values\n",
    "    significant = pvals < bonferroni_alpha\n",
    "    return significant\n",
    "\n",
    "bonferroni_significant = bonferroni_correction(p_value)\n",
    "bonferroni_significant_count = np.sum(bonferroni_significant)\n",
    "percentage_bonferroni_significant = (bonferroni_significant_count/number_tests)*100\n",
    "print(f\"After Bonferroni correction, {bonferroni_significant_count} of {number_tests} are significant, or {percentage_bonferroni_significant:.2}%.\")\n",
    "\n",
    "# Benjamini-Hochberg procedure\n",
    "def benjamini_hochberg(pvals, alpha=0.05):\n",
    "    n = len(pvals)\n",
    "    sorted_pvals = np.sort(pvals)\n",
    "    sorted_index = np.argsort(pvals)\n",
    "    adjusted_alpha = sorted_index / n * alpha\n",
    "    significant = sorted_pvals <= adjusted_alpha\n",
    "    return significant[sorted_index.argsort()]\n",
    "\n",
    "bh_significant = benjamini_hochberg(p_value)\n",
    "bh_significant_count = np.sum(bh_significant)\n",
    "percentage_bh_significant = (bh_significant_count/number_tests)*100\n",
    "print(f\"After BH correction, {bh_significant_count} of {number_tests} are significant, or {percentage_bh_significant:.2}%.\")"
   ]
  }
 ],
 "metadata": {
  "kernelspec": {
   "display_name": "Python 3",
   "language": "python",
   "name": "python3"
  },
  "language_info": {
   "codemirror_mode": {
    "name": "ipython",
    "version": 3
   },
   "file_extension": ".py",
   "mimetype": "text/x-python",
   "name": "python",
   "nbconvert_exporter": "python",
   "pygments_lexer": "ipython3",
   "version": "3.12.5"
  }
 },
 "nbformat": 4,
 "nbformat_minor": 2
}
