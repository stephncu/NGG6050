{
 "cells": [
  {
   "cell_type": "markdown",
   "metadata": {},
   "source": [
    "Let's examine the relationship between these two measured variables:\n",
    "\n",
    "Wing length\tTail length\n",
    "10.4\t7.4\n",
    "10.8\t7.6\n",
    "11.1\t7.9\n",
    "10.2\t7.2\n",
    "10.3\t7.4\n",
    "10.2\t7.1\n",
    "10.7\t7.4\n",
    "10.5\t7.2\n",
    "10.8\t7.8\n",
    "11.2\t7.7\n",
    "10.6\t7.8\n",
    "11.4\t8.3\n",
    "Assume Wing length is the X variable and Tail Length is the Y variable, both measured in cm."
   ]
  },
  {
   "cell_type": "code",
   "execution_count": 25,
   "metadata": {},
   "outputs": [],
   "source": [
    "import numpy as np\n",
    "import matplotlib.pyplot as plt\n",
    "import seaborn as sns\n",
    "import scipy.stats as stats\n",
    "import statsmodels.api as sm"
   ]
  },
  {
   "cell_type": "markdown",
   "metadata": {},
   "source": [
    "1. Plot X vs Y. Do they look related?"
   ]
  },
  {
   "cell_type": "code",
   "execution_count": 12,
   "metadata": {},
   "outputs": [
    {
     "data": {
      "text/plain": [
       "<function matplotlib.pyplot.show(close=None, block=None)>"
      ]
     },
     "execution_count": 12,
     "metadata": {},
     "output_type": "execute_result"
    },
    {
     "data": {
      "image/png": "[encoded data removed]",
      "text/plain": [
       "<Figure size 640x480 with 1 Axes>"
      ]
     },
     "metadata": {},
     "output_type": "display_data"
    }
   ],
   "source": [
    "Wing = [10.4, 10.8, 11.1, 10.2, 10.3, 10.2, 10.7, 10.5, 10.8, 11.2, 10.6, 11.4]\n",
    "Tail = [7.4, 7.6, 7.9, 7.2, 7.4, 7.1, 7.4, 7.2, 7.8, 7.7, 7.8, 8.3]\n",
    "\n",
    "plt.scatter(Wing, Tail)\n",
    "plt.title(\"Correlation Between Wing and Tail Length\")\n",
    "plt.xlabel(\"Wing Length (cm)\")\n",
    "plt.ylabel(\"Tail Length (cm)\")\n",
    "plt.show\n"
   ]
  },
  {
   "cell_type": "markdown",
   "metadata": {},
   "source": [
    "2. Calculate rx,y and ry,x, first using the equations above and then using either the Python numpy function corrcoef or Matlab's built-in corrcoef. Did you get the same answers?"
   ]
  },
  {
   "cell_type": "code",
   "execution_count": 11,
   "metadata": {},
   "outputs": [
    {
     "name": "stdout",
     "output_type": "stream",
     "text": [
      "Manual Calculation: r_xy = 0.8704\n",
      "NumPy Calculation: r_xy = 0.8704\n"
     ]
    }
   ],
   "source": [
    "#Calculating rx,y and ry,x manually\n",
    "#Convert list of variables to an array\n",
    "x = np.array(Wing)\n",
    "y = np.array(Tail)\n",
    "\n",
    "n = len(x)\n",
    "sum_x = np.sum(x)\n",
    "sum_y = np.sum(y)\n",
    "sum_xy = np.sum(x * y)\n",
    "sum_x2 = np.sum(x**2)\n",
    "sum_y2 = np.sum(y**2)\n",
    "\n",
    "# Calculate the correlation coefficient\n",
    "r_xy_manual = (n * sum_xy - sum_x * sum_y) / np.sqrt((n * sum_x2 - sum_x**2) * (n * sum_y2 - sum_y**2))\n",
    "\n",
    "# Step 2: Using NumPy to calculate correlation coefficient\n",
    "r_xy_numpy = np.corrcoef(x, y)[0, 1]  # Get the correlation coefficient\n",
    "\n",
    "# Output the results\n",
    "print(f'Manual Calculation: r_xy = {r_xy_manual:.4f}')\n",
    "print(f'NumPy Calculation: r_xy = {r_xy_numpy:.4f}')\n"
   ]
  },
  {
   "cell_type": "markdown",
   "metadata": {},
   "source": [
    "3. What is the standard error of rx,y? The 95% confidence intervals computed from the standard error?"
   ]
  },
  {
   "cell_type": "code",
   "execution_count": 15,
   "metadata": {},
   "outputs": [
    {
     "name": "stdout",
     "output_type": "stream",
     "text": [
      "The standard error of rx,y is 0.0410.\n",
      "The 95% confidence interval is (0.5923,0.9632).\n"
     ]
    }
   ],
   "source": [
    "#Calculate standard error\n",
    "s = (((1-r_xy_numpy)**2)/(n-2))**(1/2)\n",
    "\n",
    "#Calculate the 95% confidence interval\n",
    "z = np.arctanh(r_xy_numpy)   #Fisher transformation\n",
    "stdev = 1/np.sqrt(n-3)\n",
    "alpha = 0.05\n",
    "z_critical = stats.norm.ppf(1-alpha/2)  #Z-critical value for 95% CI\n",
    "\n",
    "#Confidence interval in z scale\n",
    "z_ci_lower = z-z_critical * stdev\n",
    "z_ci_upper = z+z_critical * stdev\n",
    "\n",
    "#Transform each confidence interval back to correlation scale\n",
    "r_ci_lower = np.tanh(z_ci_lower)\n",
    "r_ci_upper = np.tanh(z_ci_upper)\n",
    "\n",
    "print(f\"The standard error of rx,y is {s:.4f}.\")\n",
    "print(f\"The 95% confidence interval is ({r_ci_lower:.4f},{r_ci_upper:.4f}).\")"
   ]
  },
  {
   "cell_type": "markdown",
   "metadata": {},
   "source": [
    "4. Should the value of rx,y be considered significant at the p<0.05 level, given a two-tailed test (i.e., we reject if the test statistic is too large on either tail of the null distribution) for Ho: rx,y = 0?"
   ]
  },
  {
   "cell_type": "code",
   "execution_count": 20,
   "metadata": {},
   "outputs": [
    {
     "name": "stdout",
     "output_type": "stream",
     "text": [
      "Significant at p < 0.05: True\n"
     ]
    }
   ],
   "source": [
    "#Calculate t statistic\n",
    "t = r_xy_numpy * np.sqrt(df) / np.sqrt(1 - r_xy_numpy**2)\n",
    "\n",
    "# Step 4: Find the critical t-value for two-tailed test at alpha = 0.05\n",
    "alpha = 0.05\n",
    "df = n-2\n",
    "t_critical = stats.t.ppf(1 - alpha/2, df)\n",
    "\n",
    "is_significant = abs(t) > t_critical\n",
    "\n",
    "print(f'Significant at p < 0.05: {is_significant}')\n"
   ]
  },
  {
   "cell_type": "markdown",
   "metadata": {},
   "source": [
    "5. Yale does the exact same study and finds that his correlation value is 0.75. Is this the same as yours? That is, evaluate Ho: r = 0.75"
   ]
  },
  {
   "cell_type": "code",
   "execution_count": 23,
   "metadata": {},
   "outputs": [
    {
     "name": "stdout",
     "output_type": "stream",
     "text": [
      "Yale's Pearson correlation coefficient (r): 0.75\n",
      "t-statistic for Yale's r: 3.5857\n",
      "Critical t-value: 2.2281\n",
      "Significant at p < 0.05: True\n"
     ]
    }
   ],
   "source": [
    "r_yale = 0.75\n",
    "t_yale = r_yale * np.sqrt(df)/np.sqrt(1-r_yale**2)      #Calculate t-statistic for Yale's correlation\n",
    "\n",
    "t_critical = stats.t.ppf(1-alpha/2, df)\n",
    "\n",
    "is_significant_yale = abs(t_yale) > t_critical\n",
    "\n",
    "print(f'Yale\\'s Pearson correlation coefficient (r): {r_yale}')\n",
    "print(f't-statistic for Yale\\'s r: {t_yale:.4f}')\n",
    "print(f'Critical t-value: {t_critical:.4f}')\n",
    "print(f'Significant at p < 0.05: {is_significant_yale}')"
   ]
  },
  {
   "cell_type": "markdown",
   "metadata": {},
   "source": [
    "6. Finally, calculate the statistical power and sample size needed to reject Ho: r=0 when r >= 0.5"
   ]
  },
  {
   "cell_type": "code",
   "execution_count": 26,
   "metadata": {},
   "outputs": [
    {
     "name": "stdout",
     "output_type": "stream",
     "text": [
      "Required sample size to achieve power of 0.8 to detect r >= 0.5: 53.0\n"
     ]
    }
   ],
   "source": [
    "# Parameters\n",
    "effect_size = 0.5  # True correlation\n",
    "alpha = 0.05       # Significance level\n",
    "power_target = 0.80  # Desired power\n",
    "\n",
    "# Calculate the required sample size to achieve the desired power\n",
    "# Using the arcsine transformation for the effect size\n",
    "effect_size_z = np.arctanh(effect_size)  # Fisher transformation\n",
    "\n",
    "# Calculate required sample size\n",
    "required_sample_size = sm.stats.NormalIndPower().solve_power(\n",
    "    effect_size=effect_size_z,\n",
    "    alpha=alpha,\n",
    "    power=power_target,\n",
    "    alternative='two-sided'\n",
    ")\n",
    "\n",
    "# Output the required sample size\n",
    "print(f'Required sample size to achieve power of {power_target} to detect r >= {effect_size}: {np.ceil(required_sample_size)}')"
   ]
  }
 ],
 "metadata": {
  "kernelspec": {
   "display_name": "Python 3",
   "language": "python",
   "name": "python3"
  },
  "language_info": {
   "codemirror_mode": {
    "name": "ipython",
    "version": 3
   },
   "file_extension": ".py",
   "mimetype": "text/x-python",
   "name": "python",
   "nbconvert_exporter": "python",
   "pygments_lexer": "ipython3",
   "version": "3.12.4"
  }
 },
 "nbformat": 4,
 "nbformat_minor": 2
}
