{
 "cells": [
  {
   "cell_type": "markdown",
   "metadata": {},
   "source": [
    "Using the following data set to investigate the relationship between Age and Wing Length, and use the data to generate answers to the prompts below:\n",
    "\n",
    "Age\tWing Length\n",
    "3\t1.4\n",
    "4\t1.5\n",
    "5\t2.2\n",
    "6\t2.4\n",
    "7\t3.1\n",
    "8\t3.2\n",
    "9\t3.2\n",
    "11\t3.9\n",
    "12\t4.1\n",
    "14\t4.7\n",
    "15\t4.5\n",
    "16\t5.2\n",
    "17\t5.0"
   ]
  },
  {
   "cell_type": "code",
   "execution_count": 19,
   "metadata": {},
   "outputs": [],
   "source": [
    "import matplotlib.pyplot as plt\n",
    "import numpy as np\n",
    "import pandas as pd\n",
    "import statsmodels.api as sm\n",
    "import statsmodels.formula.api as smf\n",
    "from scipy.stats import pearsonr"
   ]
  },
  {
   "cell_type": "markdown",
   "metadata": {},
   "source": [
    "1. Plot the relationship between Age and Wing Length.\n",
    "2. Calculate and plot the regression line."
   ]
  },
  {
   "cell_type": "code",
   "execution_count": 7,
   "metadata": {},
   "outputs": [
    {
     "name": "stdout",
     "output_type": "stream",
     "text": [
      "The slope and intercept of the regression line are 0.2647 and 0.8296, respectively.\n"
     ]
    },
    {
     "data": {
      "image/png": "[encoded data removed]",
      "text/plain": [
       "<Figure size 640x480 with 1 Axes>"
      ]
     },
     "metadata": {},
     "output_type": "display_data"
    }
   ],
   "source": [
    "age = [3, 4, 5, 6, 7, 8, 9, 11, 12, 14, 15, 16, 17]\n",
    "wing_length = [1.4, 1.5, 2.2, 2.4, 3.1, 3.2, 3.2, 3.9, 4.1, 4.7, 4.5, 5.2, 5.0]\n",
    "\n",
    "#Plot age vs wing length as scatter plot\n",
    "plt.scatter(age, wing_length)\n",
    "plt.xlabel (\"Age\")\n",
    "plt.ylabel (\"Wing Length\")\n",
    "plt.title(\"Wing Length vs Age Plot\")\n",
    "plt.show\n",
    "\n",
    "#Calculate the coefficients of linear regression\n",
    "slope, intercept = np.polyfit(age, wing_length, 1)  #1 represents degree of polynomial\n",
    "\n",
    "#Convert age to numpy array\n",
    "age_array = np.array(age)\n",
    "\n",
    "for x in age:\n",
    "    regression_line = slope * age_array + intercept\n",
    "\n",
    "plt.plot(age, regression_line, color=\"grey\", label = \"Regression Line\")\n",
    "plt.show\n",
    "\n",
    "print(f\"The slope and intercept of the regression line are {slope:.4f} and {intercept:.4f}, respectively.\")"
   ]
  },
  {
   "cell_type": "markdown",
   "metadata": {},
   "source": [
    "3. Can you reject H0: b = 0?"
   ]
  },
  {
   "cell_type": "code",
   "execution_count": 14,
   "metadata": {},
   "outputs": [
    {
     "name": "stdout",
     "output_type": "stream",
     "text": [
      "                            OLS Regression Results                            \n",
      "==============================================================================\n",
      "Dep. Variable:            wing_length   R-squared:                       0.963\n",
      "Model:                            OLS   Adj. R-squared:                  0.960\n",
      "Method:                 Least Squares   F-statistic:                     289.4\n",
      "Date:                Mon, 30 Sep 2024   Prob (F-statistic):           3.01e-09\n",
      "Time:                        07:51:50   Log-Likelihood:                0.36312\n",
      "No. Observations:                  13   AIC:                             3.274\n",
      "Df Residuals:                      11   BIC:                             4.404\n",
      "Df Model:                           1                                         \n",
      "Covariance Type:            nonrobust                                         \n",
      "==============================================================================\n",
      "                 coef    std err          t      P>|t|      [0.025      0.975]\n",
      "------------------------------------------------------------------------------\n",
      "Intercept      0.8296      0.168      4.946      0.000       0.460       1.199\n",
      "age            0.2647      0.016     17.012      0.000       0.230       0.299\n",
      "==============================================================================\n",
      "Omnibus:                        0.558   Durbin-Watson:                   1.621\n",
      "Prob(Omnibus):                  0.757   Jarque-Bera (JB):                0.572\n",
      "Skew:                          -0.186   Prob(JB):                        0.751\n",
      "Kurtosis:                       2.042   Cond. No.                         25.7\n",
      "==============================================================================\n",
      "\n",
      "Notes:\n",
      "[1] Standard Errors assume that the covariance matrix of the errors is correctly specified.\n",
      "P-value for the coefficient of 'age': 0.0000\n",
      "Reject H0: The coefficient is significantly different from zero.\n"
     ]
    },
    {
     "name": "stderr",
     "output_type": "stream",
     "text": [
      "/opt/anaconda3/lib/python3.12/site-packages/scipy/stats/_axis_nan_policy.py:531: UserWarning: kurtosistest only valid for n>=20 ... continuing anyway, n=13\n",
      "  res = hypotest_fun_out(*samples, **kwds)\n"
     ]
    }
   ],
   "source": [
    "# Create a DataFrame\n",
    "data = pd.DataFrame({'age': age, 'wing_length': wing_length})\n",
    "\n",
    "# Fit the linear regression model\n",
    "model = smf.ols('wing_length ~ age', data=data).fit()\n",
    "\n",
    "# Print the summary of the regression model\n",
    "print(model.summary())\n",
    "\n",
    "# Check the p-value for the slope (coefficient of 'age')\n",
    "p_value = model.pvalues['age']\n",
    "print(f\"P-value for the coefficient of 'age': {p_value:.4f}\")\n",
    "\n",
    "# Set significance level\n",
    "alpha = 0.05\n",
    "\n",
    "# Decision\n",
    "if p_value < alpha:\n",
    "    print(\"Reject H0: The coefficient is significantly different from zero.\")\n",
    "else:\n",
    "    print(\"Fail to reject H0: The coefficient is not significantly different from zero.\")"
   ]
  },
  {
   "cell_type": "markdown",
   "metadata": {},
   "source": [
    "4. Calculate and plot the confidence intervals on the slope of the regression."
   ]
  },
  {
   "cell_type": "code",
   "execution_count": 9,
   "metadata": {},
   "outputs": [
    {
     "name": "stdout",
     "output_type": "stream",
     "text": [
      "Confidence Intervals for coefficients:\n",
      "                   0         1\n",
      "Intercept  0.460429  1.198819\n",
      "age        0.230439  0.298929\n"
     ]
    }
   ],
   "source": [
    "# Get the confidence intervals for the coefficients\n",
    "conf_intervals = model.conf_int(alpha=0.05)  # 95% confidence intervals\n",
    "print(\"Confidence Intervals for coefficients:\\n\", conf_intervals)"
   ]
  },
  {
   "cell_type": "markdown",
   "metadata": {},
   "source": [
    "4. Calculate r2 (the coefficient of determination)."
   ]
  },
  {
   "cell_type": "code",
   "execution_count": 18,
   "metadata": {},
   "outputs": [
    {
     "name": "stdout",
     "output_type": "stream",
     "text": [
      "The R2 of the regression model is 0.963.\n"
     ]
    }
   ],
   "source": [
    "#Access the R-squared value\n",
    "r_squared = model.rsquared\n",
    "print(\"The R2 of the regression model is 0.963.\")"
   ]
  },
  {
   "cell_type": "markdown",
   "metadata": {},
   "source": [
    "6. Calculate Pearson's r."
   ]
  },
  {
   "cell_type": "code",
   "execution_count": 21,
   "metadata": {},
   "outputs": [
    {
     "name": "stdout",
     "output_type": "stream",
     "text": [
      "Pearson's r: 0.9815\n",
      "P-value: 0.0000\n"
     ]
    }
   ],
   "source": [
    "r, p_value = pearsonr(age, wing_length)\n",
    "\n",
    "print(f\"Pearson's r: {r:.4f}\")\n",
    "print(f\"P-value: {p_value:.4f}\")"
   ]
  },
  {
   "cell_type": "markdown",
   "metadata": {},
   "source": [
    "7. Add some noise to the data and see how the regression changes."
   ]
  },
  {
   "cell_type": "code",
   "execution_count": 27,
   "metadata": {},
   "outputs": [
    {
     "name": "stdout",
     "output_type": "stream",
     "text": [
      "                            OLS Regression Results                            \n",
      "==============================================================================\n",
      "Dep. Variable:      wing_length_noisy   R-squared:                       0.896\n",
      "Model:                            OLS   Adj. R-squared:                  0.887\n",
      "Method:                 Least Squares   F-statistic:                     95.15\n",
      "Date:                Mon, 30 Sep 2024   Prob (F-statistic):           9.47e-07\n",
      "Time:                        07:58:22   Log-Likelihood:                -8.1794\n",
      "No. Observations:                  13   AIC:                             20.36\n",
      "Df Residuals:                      11   BIC:                             21.49\n",
      "Df Model:                           1                                         \n",
      "Covariance Type:            nonrobust                                         \n",
      "==============================================================================\n",
      "                 coef    std err          t      P>|t|      [0.025      0.975]\n",
      "------------------------------------------------------------------------------\n",
      "Intercept      0.5119      0.324      1.582      0.142      -0.200       1.224\n",
      "age            0.2928      0.030      9.755      0.000       0.227       0.359\n",
      "==============================================================================\n",
      "Omnibus:                        1.656   Durbin-Watson:                   2.866\n",
      "Prob(Omnibus):                  0.437   Jarque-Bera (JB):                1.270\n",
      "Skew:                           0.660   Prob(JB):                        0.530\n",
      "Kurtosis:                       2.225   Cond. No.                         25.7\n",
      "==============================================================================\n",
      "\n",
      "Notes:\n",
      "[1] Standard Errors assume that the covariance matrix of the errors is correctly specified.\n",
      "Adding noise changes the R-squared value to {r_squared_noisy}.\n"
     ]
    },
    {
     "name": "stderr",
     "output_type": "stream",
     "text": [
      "/opt/anaconda3/lib/python3.12/site-packages/scipy/stats/_axis_nan_policy.py:531: UserWarning: kurtosistest only valid for n>=20 ... continuing anyway, n=13\n",
      "  res = hypotest_fun_out(*samples, **kwds)\n"
     ]
    }
   ],
   "source": [
    "#Convert Wing Length into an array\n",
    "wing_length_array = np.array(wing_length)\n",
    "\n",
    "# Add noise to the wing_length data\n",
    "noise = np.random.normal(0, 0.5, size=wing_length_array.shape)  # Mean 0, StdDev 0.5\n",
    "wing_length_noisy = wing_length_array + noise\n",
    "\n",
    "# Create a DataFrame with noisy data\n",
    "data_noisy = pd.DataFrame({'age': age, 'wing_length_noisy': wing_length_noisy})\n",
    "\n",
    "# Fit the linear regression model with noisy data\n",
    "model_noisy = smf.ols('wing_length_noisy ~ age', data=data_noisy).fit()\n",
    "\n",
    "# Print the summary of the regression model with noisy data\n",
    "print(model_noisy.summary())\n",
    "\n",
    "r_squared_noisy = model_noisy.rsquared\n",
    "\n",
    "print(\"Adding noise changes the R-squared value to {r_squared_noisy}.\")"
   ]
  }
 ],
 "metadata": {
  "kernelspec": {
   "display_name": "Python 3",
   "language": "python",
   "name": "python3"
  },
  "language_info": {
   "codemirror_mode": {
    "name": "ipython",
    "version": 3
   },
   "file_extension": ".py",
   "mimetype": "text/x-python",
   "name": "python",
   "nbconvert_exporter": "python",
   "pygments_lexer": "ipython3",
   "version": "3.12.4"
  }
 },
 "nbformat": 4,
 "nbformat_minor": 2
}
