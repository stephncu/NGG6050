{
 "cells": [
  {
   "cell_type": "markdown",
   "metadata": {},
   "source": [
    "Frequentist vs Bayesian Statistics - Exercise 2: What is the probability that if someone gets a positive test, that person is infected?\n",
    "Use Baye's Theorem to calculate probability:\n",
    "    p(infected | positive results) = infected/positive results"
   ]
  },
  {
   "cell_type": "code",
   "execution_count": 59,
   "metadata": {},
   "outputs": [
    {
     "name": "stdout",
     "output_type": "stream",
     "text": [
      "With an infection rate of 0.0, the probability of a true positive is 0.0%.\n",
      "With an infection rate of 0.1, the probability of a true positive is 69.0%.\n",
      "With an infection rate of 0.2, the probability of a true positive is 83.3%.\n",
      "With an infection rate of 0.3, the probability of a true positive is 89.6%.\n",
      "With an infection rate of 0.4, the probability of a true positive is 93.0%.\n",
      "With an infection rate of 0.5, the probability of a true positive is 95.2%.\n",
      "With an infection rate of 0.6, the probability of a true positive is 96.8%.\n",
      "With an infection rate of 0.7, the probability of a true positive is 97.9%.\n",
      "With an infection rate of 0.8, the probability of a true positive is 98.8%.\n",
      "With an infection rate of 0.9, the probability of a true positive is 99.4%.\n",
      "With an infection rate of 1.0, the probability of a true positive is 100.0%.\n"
     ]
    }
   ],
   "source": [
    "total_sample = 1000\n",
    "\n",
    "#calculate number of infected people based in increasing infection rate\n",
    "import numpy as np\n",
    "for infection_rate in np.arange(0,1.1,0.1):\n",
    "    infected = total_sample * infection_rate\n",
    "\n",
    "    #calculate number of false positives based on increasing infection rate\n",
    "    false_pos_rate = 0.05\n",
    "    not_infected = total_sample - infected\n",
    "    false_pos = false_pos_rate * not_infected\n",
    "\n",
    "    #calculate probability of true positives based on total positives\n",
    "    total_positive = infected + false_pos\n",
    "    prob_true_pos = infected / total_positive * 100\n",
    "\n",
    "    print(f\"With an infection rate of {infection_rate:.1f}, the probability of a true positive is {prob_true_pos:.1f}%.\")"
   ]
  }
 ],
 "metadata": {
  "kernelspec": {
   "display_name": "base",
   "language": "python",
   "name": "python3"
  },
  "language_info": {
   "codemirror_mode": {
    "name": "ipython",
    "version": 3
   },
   "file_extension": ".py",
   "mimetype": "text/x-python",
   "name": "python",
   "nbconvert_exporter": "python",
   "pygments_lexer": "ipython3",
   "version": "3.12.4"
  }
 },
 "nbformat": 4,
 "nbformat_minor": 2
}
