{
 "cells": [
  {
   "cell_type": "code",
   "execution_count": 5,
   "metadata": {},
   "outputs": [],
   "source": [
    "import numpy as np\n",
    "from scipy.stats import binom\n",
    "from scipy.optimize import minimize"
   ]
  },
  {
   "cell_type": "markdown",
   "metadata": {},
   "source": [
    "Exercise 1: Assume that there are 10 quanta available in a nerve terminal, and for a given release event each is released with a probability of 0.2. For one such event, what is the probability that 0, 1, 2, 3, 4, 5, 6, 7, 8, 9, or 10 quanta will be released?"
   ]
  },
  {
   "cell_type": "code",
   "execution_count": 52,
   "metadata": {},
   "outputs": [
    {
     "name": "stdout",
     "output_type": "stream",
     "text": [
      "Probability of 0 being release is 0.1073742\n",
      "Probability of 1 being release is 0.2684355\n",
      "Probability of 2 being release is 0.3019899\n",
      "Probability of 3 being release is 0.2013266\n",
      "Probability of 4 being release is 0.0880804\n",
      "Probability of 5 being release is 0.0264241\n",
      "Probability of 6 being release is 0.0055050\n",
      "Probability of 7 being release is 0.0007864\n",
      "Probability of 8 being release is 0.0000737\n",
      "Probability of 9 being release is 0.0000041\n",
      "Probability of 10 being release is 0.0000001\n"
     ]
    }
   ],
   "source": [
    "#choose the parameters\n",
    "p = 0.2     #probability of release for each event\n",
    "n = 10      #number of quanta available\n",
    "\n",
    "#possible number of quanta released\n",
    "k = np.arange(n + 1)\n",
    "\n",
    "#calculate probability of each number of quanta released\n",
    "probabilities = binom.pmf(k, n, p)\n",
    "\n",
    "#print probabilities\n",
    "for num_quanta, prob in zip(k, probabilities):      #num_quanta and prob are new variables I defined\n",
    "    print(f\"Probability of {num_quanta} being release is {prob:.7f}\")"
   ]
  },
  {
   "cell_type": "markdown",
   "metadata": {},
   "source": [
    "Exercise 2: Let's say you know that a given nerve terminal contains exactly 14 quanta available for release. You have read in the literature that the release probability of these quanta is low, say 0.1. To assess whether this value is reasonable, you run a simple experiment: activate the nerve and measure the number of quanta that are released. The result is 8 quanta. What is the probability that you would get this result (8 quanta) if the true probability of release really was 0.1? What about if the true release probability was much higher; say, 0.7? What about for each decile of release probability (0.1, 0.2, ... 1.0)? Which value of release probability did you determine to be the most probable, given your measurement?"
   ]
  },
  {
   "cell_type": "code",
   "execution_count": 53,
   "metadata": {},
   "outputs": [
    {
     "name": "stdout",
     "output_type": "stream",
     "text": [
      "The probability of getting 8 quanta released given a release probability of 0.1 is 0.000016.\n",
      "___________________\n",
      "The probability of getting 8 quanta released given a release probability of 0.7 is 0.126202.\n",
      "___________________\n",
      "The probability of getting 8 quanta released given a release probability of 0.0 is 0.0.\n",
      "The probability of getting 8 quanta released given a release probability of 0.1 is 0.0.\n",
      "The probability of getting 8 quanta released given a release probability of 0.2 is 0.002.\n",
      "The probability of getting 8 quanta released given a release probability of 0.3 is 0.0232.\n",
      "The probability of getting 8 quanta released given a release probability of 0.4 is 0.0918.\n",
      "The probability of getting 8 quanta released given a release probability of 0.5 is 0.1833.\n",
      "The probability of getting 8 quanta released given a release probability of 0.6 is 0.2066.\n",
      "The probability of getting 8 quanta released given a release probability of 0.7 is 0.1262.\n",
      "The probability of getting 8 quanta released given a release probability of 0.8 is 0.0322.\n",
      "The probability of getting 8 quanta released given a release probability of 0.9 is 0.0013.\n",
      "The probability of getting 8 quanta released given a release probability of 1.0 is 0.0.\n",
      "The release probability is likely 0.6 because it produces the highest likelihood of getting 8 quanta released.\n"
     ]
    }
   ],
   "source": [
    "#determine probability that 8 quanta will be released given release probability is 0.1\n",
    "#define parameters\n",
    "prob_release = 0.1\n",
    "n = 14      #number of quanta available\n",
    "k = 8       #desired number of quanta released\n",
    "\n",
    "#calculate probability of getting 8 successes with prob_release = 0.1\n",
    "prob_outcome_8 = binom.pmf(k, n, p = prob_release)\n",
    "\n",
    "#print outcome\n",
    "print(f\"The probability of getting {k} quanta released given a release probability of {prob_release} is {prob_outcome_8:4f}.\")\n",
    "print(\"___________________\")\n",
    "\n",
    "#determine probability that 8 quanta will be released given release probability is 0.7\n",
    "prob_release = 0.7\n",
    "n = 14      #number of quanta available\n",
    "k = 8       #desired number of quanta released\n",
    "prob_outcome = binom.pmf(k, n, p = prob_release)\n",
    "print(f\"The probability of getting {k} quanta released given a release probability of {prob_release} is {prob_outcome:4f}.\")\n",
    "print(\"___________________\")\n",
    "\n",
    "#determine probability that 8 quanta will be released given each decile of release probability\n",
    "prob_release = np.arange(0, 1.1, 0.1)\n",
    "n = 14      #number of quanta available\n",
    "k = 8       #desired number of quanta released\n",
    "for p in prob_release:\n",
    "    prob_outcome_8_decile = binom.pmf(k, n, p)\n",
    "    print(f\"The probability of getting {k} quanta released given a release probability of {round(p,1)} is {round(prob_outcome_8_decile,4)}.\")\n",
    "print(\"The release probability is likely 0.6 because it produces the highest likelihood of getting 8 quanta released.\")"
   ]
  },
  {
   "cell_type": "markdown",
   "metadata": {},
   "source": [
    "Exercise 3:\n",
    "Not feeling convinced by your single experiment (good scientist!), you repeat it under identical conditions. This time you measure 5 quanta that were released. Your sample size has now doubled, to two measurements. You now want to take into account both measurements when you assess the likelihoods of different possible values of the underlying release probability. To do so, assume that the two measurements in this sample are independent of one another; that is, the value of each result had no bearing on the other. In this case, the total likelihood is simply the product of the likelihoods associated with each separate measurement. It is also typical to compute the logarithm of each likelihood and take their sum, which is often more convenient. What are the values of the total likelihood and total log-likelihood in this example, if we assume that the true release probability is 0.1?\n",
    "\n",
    "Of course, knowing those values of the likelihood and log-likelihood is not particularly useful until you can compare them to the values computed for other possible values for the release probability, so you can determine which value of release probability is most likely, given the data. Therefore, compute the full likelihood and log-likelihood functions using deciles of release probability between 0 and 1. What is the maximum value? Can you improve your estimate by computing the functions at a higher resolution? How does the estimate improve as you increase the sample size?"
   ]
  },
  {
   "cell_type": "code",
   "execution_count": 63,
   "metadata": {},
   "outputs": [
    {
     "name": "stdout",
     "output_type": "stream",
     "text": [
      "The probability of getting 5 quanta released given a release probability of 0.1 is 0.007756.\n",
      "Given the two experiments, the total likelihood of getting these results is 0.0000001238, and the total log likelihood is -15.9047.\n",
      "_______________________________\n",
      "The total likelihood of getting these results given a release probability of 0.0 is 0.000000000000.\n",
      "The total likelihood of getting these results given a release probability of 0.1 is 0.000000123782.\n",
      "The total likelihood of getting these results given a release probability of 0.2 is 0.000173284275.\n",
      "The total likelihood of getting these results given a release probability of 0.3 is 0.004550575423.\n",
      "The total likelihood of getting these results given a release probability of 0.4 is 0.018970031339.\n",
      "The total likelihood of getting these results given a release probability of 0.5 is 0.022396467626.\n",
      "The total likelihood of getting these results given a release probability of 0.6 is 0.008431125040.\n",
      "The total likelihood of getting these results given a release probability of 0.7 is 0.000835819976.\n",
      "The total likelihood of getting these results given a release probability of 0.8 is 0.000010830267.\n",
      "The total likelihood of getting these results given a release probability of 0.9 is 0.000000001528.\n",
      "The total likelihood of getting these results given a release probability of 1.0 is 0.000000000000.\n",
      "__________________________\n",
      "The total likelihood of getting these results given a release probability of 0.0 is 0.000000000000.\n",
      "The total likelihood of getting these results given a release probability of 0.1 is 0.000000000000.\n",
      "The total likelihood of getting these results given a release probability of 0.2 is 0.000000000000.\n",
      "The total likelihood of getting these results given a release probability of 0.3 is 0.000000000000.\n",
      "The total likelihood of getting these results given a release probability of 0.4 is 0.000000000000.\n",
      "The total likelihood of getting these results given a release probability of 0.5 is 0.000000000000.\n",
      "The total likelihood of getting these results given a release probability of 0.6 is 0.000000000000.\n",
      "The total likelihood of getting these results given a release probability of 0.7 is 0.000000000000.\n",
      "The total likelihood of getting these results given a release probability of 0.8 is 0.000000000000.\n",
      "The total likelihood of getting these results given a release probability of 0.9 is 0.000000000000.\n",
      "The total likelihood of getting these results given a release probability of 1.0 is 0.000000000000.\n"
     ]
    },
    {
     "name": "stderr",
     "output_type": "stream",
     "text": [
      "/var/folders/vj/dj1sw4490b357sf04kgc67jw0000gp/T/ipykernel_34240/2421157603.py:33: RuntimeWarning: divide by zero encountered in log\n",
      "  total_log_likelihood_decile = np.log(prob_outcome_8_decile) * np.log(prob_outcome_5_decile)\n"
     ]
    }
   ],
   "source": [
    "#calculate likelihood of getting 5 quanta released given the true release probability if 0.1\n",
    "prob_release = 0.1\n",
    "n = 14      #number of quanta available\n",
    "k = 5       #desired number of quanta released\n",
    "prob_outcome_5 = binom.pmf(k, n, p = prob_release)\n",
    "print(f\"The probability of getting {k} quanta released given a release probability of {prob_release} is {prob_outcome_5:4f}.\")\n",
    "\n",
    "#calculate total likelihoods\n",
    "total_likelihood = prob_outcome_8 * prob_outcome_5\n",
    "total_log_likelohood = np.log(prob_outcome_8) + np.log(prob_outcome_5)\n",
    "print(f\"Given the two experiments, the total likelihood of getting these results is {total_likelihood:.10f}, and the total log likelihood is {total_log_likelohood:.4f}.\")\n",
    "print(\"_______________________________\")\n",
    "\n",
    "#determine total likelihood given decile release probability\n",
    "prob_release = np.arange(0, 1.1, 0.1)\n",
    "n = 14      #number of quanta available\n",
    "k_8 = 8       #desired number of quanta released\n",
    "k_5 = 5\n",
    "for p in prob_release:\n",
    "    prob_outcome_8_decile = binom.pmf(k_8, n, p)\n",
    "    prob_outcome_5_decile = binom.pmf(k_5, n, p)\n",
    "    total_likelihood_decile = prob_outcome_8_decile * prob_outcome_5_decile\n",
    "    print(f\"The total likelihood of getting these results given a release probability of {p:.1f} is {total_likelihood_decile:.12f}.\")\n",
    "print(\"__________________________\")\n",
    "#determine total log-likelihood given decile release probability\n",
    "prob_release = np.arange(0, 1.1, 0.1)\n",
    "n = 14      #number of quanta available\n",
    "k_8 = 8       #desired number of quanta released\n",
    "k_5 = 5\n",
    "for p in prob_release:\n",
    "    prob_outcome_8_decile = binom.pmf(k_8, n, p)\n",
    "    prob_outcome_5_decile = binom.pmf(k_5, n, p)\n",
    "    total_log_likelihood_decile = np.log(prob_outcome_8_decile) * np.log(prob_outcome_5_decile)\n",
    "    print(f\"The total log-likelihood of getting these results given a release probability of {p:.1f} is {total_likelihood_decile:.12f}.\")\n",
    "\n",
    "print(\"The maximum value of the total likelihood is 0.02240 with a release probability of 0.5.\")\n"
   ]
  },
  {
   "cell_type": "markdown",
   "metadata": {},
   "source": [
    "Exercise 4\n",
    "You keep going and conduct 100 separate experiments and end up with these results:\n",
    "\n",
    "Measured releases\tCount\n",
    "0\t0\n",
    "1\t0\n",
    "2\t3\n",
    "3\t7\n",
    "4\t10\n",
    "5\t19\n",
    "6\t26\n",
    "7\t16\n",
    "8\t16\n",
    "9\t5\n",
    "10\t5\n",
    "11\t0\n",
    "12\t0\n",
    "13\t0\n",
    "14\t0\n",
    "What is the most likely value of p (which we typically refer to as p hat), which represents the maximum-likelihood estimate of a parameter in the population given our sample with a resolution of 0.01?"
   ]
  },
  {
   "cell_type": "code",
   "execution_count": 8,
   "metadata": {},
   "outputs": [
    {
     "name": "stdout",
     "output_type": "stream",
     "text": [
      "The most likely value of p (p-hat) is 0.5000.\n"
     ]
    },
    {
     "name": "stderr",
     "output_type": "stream",
     "text": [
      "/var/folders/vj/dj1sw4490b357sf04kgc67jw0000gp/T/ipykernel_41989/2336283938.py:10: RuntimeWarning: divide by zero encountered in log\n",
      "  log_likelihood = np.sum(counts * np.log(binom.pmf(measured_releases, n, p)))\n",
      "/var/folders/vj/dj1sw4490b357sf04kgc67jw0000gp/T/ipykernel_41989/2336283938.py:10: RuntimeWarning: invalid value encountered in multiply\n",
      "  log_likelihood = np.sum(counts * np.log(binom.pmf(measured_releases, n, p)))\n"
     ]
    }
   ],
   "source": [
    "#create array with measured results\n",
    "measured_releases = np.arange(0,15,1)\n",
    "counts = (0,0,3,7,10,19,26,16,16,5,5,0,0,0,0)\n",
    "n = 14  # Number of quanta available (trials in binomial distribution)\n",
    "total_experiments = 100  # Total number of experiments\n",
    "\n",
    "####i do not know that i am being asked to do, all i have done is set my parameters"
   ]
  },
  {
   "cell_type": "markdown",
   "metadata": {},
   "source": [
    "Exercise 5\n",
    "Let's say that you have run an exhaustive set of experiments on this synapse and have determined that the true release probability is 0.3 (within some very small tolerance). Now you want to test whether changing the temperature of the preparation affects the release probability. So you change the temperature, perform the experiment, and measure 7 quantal events for the same 14 available quanta. Compute p hat. Standard statistical inference now asks the question, what is the probability that you would have obtained that measurement given a Null Hypothesis of no effect? In this case, no effect corresponds to an unchanged value of the true release probability (i.e., its value remained at 0.3 even with the temperature change). What is the probability that you would have gotten that measurement if your Null Hypothesis were true? Can you conclude that temperature had an effect?"
   ]
  },
  {
   "cell_type": "code",
   "execution_count": null,
   "metadata": {},
   "outputs": [],
   "source": [
    "prob_release = 0.3\n",
    "k = 7\n",
    "n = 14\n",
    "####i do not know where to begin with this exercise either"
   ]
  }
 ],
 "metadata": {
  "kernelspec": {
   "display_name": "Python 3",
   "language": "python",
   "name": "python3"
  },
  "language_info": {
   "codemirror_mode": {
    "name": "ipython",
    "version": 3
   },
   "file_extension": ".py",
   "mimetype": "text/x-python",
   "name": "python",
   "nbconvert_exporter": "python",
   "pygments_lexer": "ipython3",
   "version": "3.12.5"
  }
 },
 "nbformat": 4,
 "nbformat_minor": 2
}
